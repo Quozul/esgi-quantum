{
 "cells": [
  {
   "cell_type": "markdown",
   "source": [
    "# TP 1\n",
    "\n",
    "Énigme à résoudre : https://youtu.be/o6AAt2Yqu1k"
   ],
   "metadata": {
    "collapsed": false
   },
   "id": "e6fbc6d0c2288336"
  },
  {
   "cell_type": "markdown",
   "source": [
    "## Imports"
   ],
   "metadata": {
    "collapsed": false
   },
   "id": "d626598f89dd4411"
  },
  {
   "cell_type": "code",
   "execution_count": null,
   "outputs": [],
   "source": [
    "from qiskit import QuantumCircuit, QuantumRegister, ClassicalRegister"
   ],
   "metadata": {
    "collapsed": false,
    "is_executing": true
   },
   "id": "initial_id"
  },
  {
   "cell_type": "markdown",
   "source": [
    "## Initialization du circuit"
   ],
   "metadata": {
    "collapsed": false
   },
   "id": "c847b9f50f33fce9"
  },
  {
   "cell_type": "code",
   "execution_count": null,
   "outputs": [],
   "source": [
    "q = QuantumRegister(3)\n",
    "c = ClassicalRegister(1)\n",
    "circuit = QuantumCircuit(q, c)"
   ],
   "metadata": {
    "collapsed": false,
    "is_executing": true
   },
   "id": "372d5c5fe19cdb0a"
  },
  {
   "cell_type": "markdown",
   "source": [
    "## Définition du circuit"
   ],
   "metadata": {
    "collapsed": false
   },
   "id": "386308490d42d781"
  },
  {
   "cell_type": "code",
   "execution_count": null,
   "outputs": [],
   "source": [
    "circuit.h(0)\n",
    "circuit.h(2)\n",
    "circuit.cx(0, 1)\n",
    "\n",
    "circuit.barrier()\n",
    "\n",
    "circuit.cx(2, 1)\n",
    "circuit.x(2)\n",
    "circuit.cx(2, 0)\n",
    "circuit.x(2)\n",
    "\n",
    "circuit.barrier()\n",
    "\n",
    "circuit.swap(0, 1)\n",
    "circuit.x(0)\n",
    "circuit.x(1)\n",
    "circuit.cx(2, 1)\n",
    "circuit.x(2)\n",
    "circuit.cx(2, 0)\n",
    "circuit.x(2)\n",
    "\n",
    "circuit.measure(0, 0)\n",
    "circuit.measure(1, 0)\n",
    "circuit.measure(2, 0)\n",
    "\n",
    "circuit.draw('mpl')"
   ],
   "metadata": {
    "collapsed": false
   },
   "id": "e511800124fb6e8a"
  }
 ],
 "metadata": {
  "kernelspec": {
   "display_name": "Python 3",
   "language": "python",
   "name": "python3"
  },
  "language_info": {
   "codemirror_mode": {
    "name": "ipython",
    "version": 2
   },
   "file_extension": ".py",
   "mimetype": "text/x-python",
   "name": "python",
   "nbconvert_exporter": "python",
   "pygments_lexer": "ipython2",
   "version": "2.7.6"
  }
 },
 "nbformat": 4,
 "nbformat_minor": 5
}
