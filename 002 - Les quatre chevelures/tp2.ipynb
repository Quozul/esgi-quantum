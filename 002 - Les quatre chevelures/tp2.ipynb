{
 "cells": [
  {
   "cell_type": "markdown",
   "source": [
    "# TP 2\n",
    "\n",
    "Énigme à résoudre : https://youtu.be/xUE09alZPfg"
   ],
   "metadata": {
    "collapsed": false
   },
   "id": "20a4018b40bef4f2"
  }
 ],
 "metadata": {
  "kernelspec": {
   "display_name": "Python 3",
   "language": "python",
   "name": "python3"
  },
  "language_info": {
   "codemirror_mode": {
    "name": "ipython",
    "version": 2
   },
   "file_extension": ".py",
   "mimetype": "text/x-python",
   "name": "python",
   "nbconvert_exporter": "python",
   "pygments_lexer": "ipython2",
   "version": "2.7.6"
  }
 },
 "nbformat": 4,
 "nbformat_minor": 5
}
